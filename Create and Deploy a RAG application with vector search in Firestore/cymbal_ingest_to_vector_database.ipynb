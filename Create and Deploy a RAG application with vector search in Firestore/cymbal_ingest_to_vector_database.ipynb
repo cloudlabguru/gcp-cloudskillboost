{
 "cells": [
  {
   "cell_type": "code",
   "execution_count": null,
   "id": "mlreRXn6WpRpjDi7Bt12rrcn",
   "metadata": {
    "colab": {
     "base_uri": "https://localhost:8080/"
    },
    "executionInfo": {
     "elapsed": 42994,
     "status": "ok",
     "timestamp": 1733836917852,
     "user": {
      "displayName": "",
      "userId": ""
     },
     "user_tz": -420
    },
    "id": "mlreRXn6WpRpjDi7Bt12rrcn",
    "outputId": "12129892-e053-4005-fe5c-c855ba2a490f",
    "tags": []
   },
   "outputs": [],
   "source": [
    "!pip install --quiet --upgrade google_cloud_firestore google_cloud_aiplatform langchain langchain-google-vertexai langchain_community langchain_experimental pymupdf"
   ]
  },
  {
   "cell_type": "code",
   "execution_count": null,
   "id": "35210591",
   "metadata": {},
   "outputs": [],
   "source": [
    "import IPython\n",
    "\n",
    "app = IPython.Application.instance()\n",
    "app.kernel.do_shutdown(True)"
   ]
  },
  {
   "cell_type": "code",
   "execution_count": null,
   "id": "PcwjqUbot3S_",
   "metadata": {
    "executionInfo": {
     "elapsed": 9070,
     "status": "ok",
     "timestamp": 1733837367017,
     "user": {
      "displayName": "",
      "userId": ""
     },
     "user_tz": -420
    },
    "id": "PcwjqUbot3S_"
   },
   "outputs": [],
   "source": [
    "import vertexai\n",
    "from vertexai.language_models import TextEmbeddingModel\n",
    "from vertexai.generative_models import GenerativeModel\n",
    "\n",
    "import pickle\n",
    "from IPython.display import display, Markdown\n",
    "\n",
    "from langchain_google_vertexai import VertexAIEmbeddings\n",
    "from langchain_community.document_loaders import PyMuPDFLoader\n",
    "from langchain_experimental.text_splitter import SemanticChunker\n",
    "\n",
    "from google.cloud import firestore\n",
    "from google.cloud.firestore_v1.vector import Vector\n",
    "from google.cloud.firestore_v1.base_vector_query import DistanceMeasure"
   ]
  },
  {
   "cell_type": "code",
   "execution_count": null,
   "id": "GIgcOkTywm51",
   "metadata": {
    "colab": {
     "base_uri": "https://localhost:8080/"
    },
    "executionInfo": {
     "elapsed": 2624,
     "status": "ok",
     "timestamp": 1733837424388,
     "user": {
      "displayName": "",
      "userId": ""
     },
     "user_tz": -420
    },
    "id": "GIgcOkTywm51",
    "outputId": "574e3bf7-a635-4b6a-ea10-43fe6a6625aa"
   },
   "outputs": [],
   "source": [
    "import vertexai\n",
    "\n",
    "PROJECT_ID = ! gcloud config get-value project\n",
    "PROJECT_ID = PROJECT_ID[0]\n",
    "LOCATION = \"\" # @param {type:\"string\"}\n",
    "\n",
    "print(PROJECT_ID)\n",
    "\n",
    "vertexai.init(project=PROJECT_ID, location=LOCATION)"
   ]
  },
  {
   "cell_type": "code",
   "execution_count": null,
   "id": "_0q1WjRyw2xD",
   "metadata": {
    "executionInfo": {
     "elapsed": 6,
     "status": "ok",
     "timestamp": 1733837665916,
     "user": {
      "displayName": "",
      "userId": ""
     },
     "user_tz": -420
    },
    "id": "_0q1WjRyw2xD"
   },
   "outputs": [],
   "source": [
    "from langchain_google_vertexai import VertexAIEmbeddings\n",
    "\n",
    "# Initialize the a specific Embeddings Model version\n",
    "embedding_model = VertexAIEmbeddings(model_name=\"text-embedding-004\")"
   ]
  },
  {
   "cell_type": "code",
   "execution_count": null,
   "id": "QIO1HuNrxNOC",
   "metadata": {
    "colab": {
     "base_uri": "https://localhost:8080/"
    },
    "executionInfo": {
     "elapsed": 2640,
     "status": "ok",
     "timestamp": 1733837691448,
     "user": {
      "displayName": "",
      "userId": ""
     },
     "user_tz": -420
    },
    "id": "QIO1HuNrxNOC",
    "outputId": "5880c56b-dbfc-4227-ff68-dec0973432b5"
   },
   "outputs": [],
   "source": [
    "!curl -LO github.com/cloudlabguru/gcp-cloudskillboost/blob/main/Create%20and%20Deploy%20a%20RAG%20application%20with%20vector%20search%20in%20Firestore/nyc_food_safety_manual.pdf"
   ]
  },
  {
   "cell_type": "code",
   "execution_count": null,
   "id": "DCArTRq7x3Wa",
   "metadata": {
    "executionInfo": {
     "elapsed": 28,
     "status": "ok",
     "timestamp": 1733839344402,
     "user": {
      "displayName": "",
      "userId": ""
     },
     "user_tz": -420
    },
    "id": "DCArTRq7x3Wa"
   },
   "outputs": [],
   "source": [
    "from langchain_community.document_loaders import PyMuPDFLoader\n",
    "data = PyMuPDFLoader(\"nyc_food_safety_manual.pdf\").load()"
   ]
  },
  {
   "cell_type": "code",
   "execution_count": null,
   "id": "9_flo_ZqyEwb",
   "metadata": {
    "executionInfo": {
     "elapsed": 28,
     "status": "ok",
     "timestamp": 1733837845848,
     "user": {
      "displayName": "",
      "userId": ""
     },
     "user_tz": -420
    },
    "id": "9_flo_ZqyEwb"
   },
   "outputs": [],
   "source": [
    "def clean_page(page):\n",
    "  return page.page_content.replace(\"-\\n\",\"\")\\\n",
    "                          .replace(\"\\n\",\" \")\\\n",
    "                          .replace(\"\\x02\",\"\")\\\n",
    "                          .replace(\"\\x03\",\"\")\\\n",
    "                          .replace(\"fo d P R O T E C T I O N  T R A I N I N G  M A N U A L\",\"\")\\\n",
    "                          .replace(\"N E W  Y O R K  C I T Y  D E P A R T M E N T  O F  H E A L T H  &  M E N T A L  H Y G I E N E\",\"\")"
   ]
  },
  {
   "cell_type": "code",
   "execution_count": null,
   "id": "P1W0vtcW3ARA",
   "metadata": {
    "executionInfo": {
     "elapsed": 4,
     "status": "ok",
     "timestamp": 1733839554707,
     "user": {
      "displayName": "",
      "userId": ""
     },
     "user_tz": -420
    },
    "id": "P1W0vtcW3ARA"
   },
   "outputs": [],
   "source": [
    "cleaned_pages = [clean_page(page) for page in data]"
   ]
  },
  {
   "cell_type": "code",
   "execution_count": null,
   "id": "wGIhcCCuyeQa",
   "metadata": {
    "colab": {
     "base_uri": "https://localhost:8080/"
    },
    "executionInfo": {
     "elapsed": 31717,
     "status": "ok",
     "timestamp": 1733840044186,
     "user": {
      "displayName": "",
      "userId": ""
     },
     "user_tz": -420
    },
    "id": "wGIhcCCuyeQa",
    "outputId": "74017f81-f5ff-4d84-d832-8ba52f9c9b66"
   },
   "outputs": [],
   "source": [
    "from langchain_experimental.text_splitter import SemanticChunker\n",
    "\n",
    "# Create a SemanticChunker to split pages based on semantic similarity\n",
    "doc_chunker = SemanticChunker(\n",
    "    embeddings=embedding_model\n",
    ")\n",
    "\n",
    "# Chunk the first five pages\n",
    "docs = doc_chunker.create_documents(cleaned_pages[:5])\n",
    "\n",
    "# Extract the text content from the chunked documents\n",
    "chunked_content = [doc.page_content for doc in docs]"
   ]
  },
  {
   "cell_type": "code",
   "execution_count": null,
   "id": "sQEKR_v56iLR",
   "metadata": {
    "executionInfo": {
     "elapsed": 1550,
     "status": "ok",
     "timestamp": 1733840069297,
     "user": {
      "displayName": "",
      "userId": ""
     },
     "user_tz": -420
    },
    "id": "sQEKR_v56iLR"
   },
   "outputs": [],
   "source": [
    "chunked_embeddings = embedding_model.embed_documents(chunked_content)"
   ]
  },
  {
   "cell_type": "code",
   "execution_count": null,
   "id": "aP5wAsZa68wJ",
   "metadata": {
    "colab": {
     "base_uri": "https://localhost:8080/"
    },
    "executionInfo": {
     "elapsed": 4432,
     "status": "ok",
     "timestamp": 1733840085029,
     "user": {
      "displayName": "",
      "userId": ""
     },
     "user_tz": -420
    },
    "id": "aP5wAsZa68wJ",
    "outputId": "1ef8f47a-39a4-42a2-ee7d-b9641a17bf85"
   },
   "outputs": [],
   "source": [
    "!curl -LO github.com/cloudlabguru/gcp-cloudskillboost/blob/main/Create%20and%20Deploy%20a%20RAG%20application%20with%20vector%20search%20in%20Firestore/chunked_content.pkl\n",
    "!curl -LO github.com/cloudlabguru/gcp-cloudskillboost/blob/main/Create%20and%20Deploy%20a%20RAG%20application%20with%20vector%20search%20in%20Firestore/chunked_embeddings.pkl\n",
    "\n",
    "chunked_content = pickle.load(open(\"chunked_content.pkl\", \"rb\"))\n",
    "chunked_embeddings = pickle.load(open(\"chunked_embeddings.pkl\", \"rb\"))"
   ]
  },
  {
   "cell_type": "code",
   "execution_count": null,
   "id": "moNZ5WE28jrk",
   "metadata": {
    "executionInfo": {
     "elapsed": 9,
     "status": "ok",
     "timestamp": 1733840948208,
     "user": {
      "displayName": "",
      "userId": ""
     },
     "user_tz": -420
    },
    "id": "moNZ5WE28jrk"
   },
   "outputs": [],
   "source": [
    "db = firestore.Client(project=PROJECT_ID)\n",
    "collection = db.collection('food-safety')"
   ]
  },
  {
   "cell_type": "code",
   "execution_count": null,
   "id": "Ksct-uAW8vJB",
   "metadata": {
    "executionInfo": {
     "elapsed": 5,
     "status": "ok",
     "timestamp": 1733840702679,
     "user": {
      "displayName": "",
      "userId": ""
     },
     "user_tz": -420
    },
    "id": "Ksct-uAW8vJB"
   },
   "outputs": [],
   "source": [
    "from google.cloud import firestore\n",
    "db = firestore.Client()\n",
    "collection = db.collection(\"food-safety\")"
   ]
  },
  {
   "cell_type": "code",
   "execution_count": null,
   "id": "2gP5Z7dJ9XMW",
   "metadata": {
    "executionInfo": {
     "elapsed": 20788,
     "status": "ok",
     "timestamp": 1733840977693,
     "user": {
      "displayName": "",
      "userId": ""
     },
     "user_tz": -420
    },
    "id": "2gP5Z7dJ9XMW"
   },
   "outputs": [],
   "source": [
    "for i, (content, embedding) in enumerate(zip(chunked_content, chunked_embeddings)):\n",
    "    doc_ref = collection.document(f\"doc_{i}\")\n",
    "    doc_ref.set({\n",
    "        \"content\": content,\n",
    "        \"embedding\": Vector(embedding)\n",
    "    })"
   ]
  },
  {
   "cell_type": "code",
   "execution_count": null,
   "id": "8VN6Q82R-VpP",
   "metadata": {
    "colab": {
     "base_uri": "https://localhost:8080/"
    },
    "executionInfo": {
     "elapsed": 1588,
     "status": "ok",
     "timestamp": 1733842068513,
     "user": {
      "displayName": "",
      "userId": ""
     },
     "user_tz": -420
    },
    "id": "8VN6Q82R-VpP",
    "outputId": "9f06a47f-e118-44ae-8f98-bcc552480588"
   },
   "outputs": [],
   "source": [
    "!gcloud firestore indexes composite create --project=PROJECT_ID --collection-group=food-safety --query-scope=COLLECTION --field-config=vector-config='{\"dimension\":\"768\",\"flat\": \"{}\"}',field-path=embedding"
   ]
  },
  {
   "cell_type": "code",
   "execution_count": null,
   "id": "iRyl-q-k-frQ",
   "metadata": {
    "executionInfo": {
     "elapsed": 5,
     "status": "ok",
     "timestamp": 1733841592666,
     "user": {
      "displayName": "",
      "userId": ""
     },
     "user_tz": -420
    },
    "id": "iRyl-q-k-frQ"
   },
   "outputs": [],
   "source": [
    "def search_vector_database(query: str):\n",
    "  context = \"\"\n",
    "  query_embedding = embedding_model.embed_query(query)\n",
    "  vector_query = collection.find_nearest(\n",
    "    vector_field=\"embedding\",\n",
    "    query_vector=Vector(query_embedding),\n",
    "    distance_measure=DistanceMeasure.EUCLIDEAN,\n",
    "    limit=5,\n",
    "  )\n",
    "  docs = vector_query.stream()\n",
    "  context = [result.to_dict()['content'] for result in docs]\n",
    "  return context"
   ]
  },
  {
   "cell_type": "code",
   "execution_count": null,
   "id": "tlj7ynpU-8f9",
   "metadata": {
    "colab": {
     "base_uri": "https://localhost:8080/"
    },
    "executionInfo": {
     "elapsed": 595,
     "status": "ok",
     "timestamp": 1733842070651,
     "user": {
      "displayName": "",
      "userId": ""
     },
     "user_tz": -420
    },
    "id": "tlj7ynpU-8f9",
    "outputId": "530910d3-9b55-4a97-fd9d-341b312fdd4f"
   },
   "outputs": [],
   "source": [
    "search_vector_database(\"How should I store food?\")"
   ]
  },
  {
   "cell_type": "code",
   "execution_count": null,
   "id": "kBEYppljCmIx",
   "metadata": {
    "id": "kBEYppljCmIx"
   },
   "outputs": [],
   "source": []
  }
 ],
 "metadata": {
  "colab": {
   "name": "student-04-93b70c34798d (Dec 10, 2024, 8:16:48 PM)",
   "provenance": []
  },
  "kernelspec": {
   "display_name": "Python 3",
   "language": "python",
   "name": "python3"
  },
  "language_info": {
   "codemirror_mode": {
    "name": "ipython",
    "version": 3
   },
   "file_extension": ".py",
   "mimetype": "text/x-python",
   "name": "python",
   "nbconvert_exporter": "python",
   "pygments_lexer": "ipython3",
   "version": "3.10.10"
  }
 },
 "nbformat": 4,
 "nbformat_minor": 5
}
